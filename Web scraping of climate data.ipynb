{
 "cells": [
  {
   "cell_type": "code",
   "execution_count": 4,
   "id": "d9a17456",
   "metadata": {
    "scrolled": false
   },
   "outputs": [
    {
     "name": "stdout",
     "output_type": "stream",
     "text": [
      "Requirement already satisfied: beautifulsoup4 in ./opt/anaconda3/lib/python3.9/site-packages (4.10.0)\n",
      "Requirement already satisfied: soupsieve>1.2 in ./opt/anaconda3/lib/python3.9/site-packages (from beautifulsoup4) (2.2.1)\n",
      "Note: you may need to restart the kernel to use updated packages.\n"
     ]
    }
   ],
   "source": [
    "pip install beautifulsoup4"
   ]
  },
  {
   "cell_type": "code",
   "execution_count": 2,
   "id": "61be4669",
   "metadata": {},
   "outputs": [
    {
     "name": "stdout",
     "output_type": "stream",
     "text": [
      "42419\n"
     ]
    }
   ],
   "source": [
    "import requests\n",
    "r = requests.get('http://www.usclimatedata.com/climate/united-states/us')\n",
    "print(len(r.text))"
   ]
  },
  {
   "cell_type": "code",
   "execution_count": 3,
   "id": "ff8ab40d",
   "metadata": {},
   "outputs": [
    {
     "name": "stdout",
     "output_type": "stream",
     "text": [
      "<title>Climate United States - Normals and averages</title>\n",
      "Climate United States - Normals and averages\n"
     ]
    }
   ],
   "source": [
    "from bs4 import BeautifulSoup\n",
    "soup = BeautifulSoup(r.text)\n",
    "print(soup.title)\n",
    "print(soup.title.string) \n",
    "# convert our HTML text into a BeautifulSoup object, then get specific tags out of that HTML document"
   ]
  },
  {
   "cell_type": "code",
   "execution_count": 26,
   "id": "c9979e04",
   "metadata": {},
   "outputs": [
    {
     "name": "stdout",
     "output_type": "stream",
     "text": [
      "<p class=\"lead\">Share</p>\n",
      "Share\n",
      "<a class=\"navbar-brand\" href=\"/\" title=\"Temperature - Precipitation - Sunshine - Snowfall\"><img alt=\"Temperature - Precipitation - Sunshine - Snowfall\" data-src=\"https://www.usclimatedata.com/assets/images/us-climate-data.png\" height=\"34\" src=\"https://www.usclimatedata.com/assets/images/us-climate-data.png\" srcset=\"https://www.usclimatedata.com/assets/images/us-climate-data.png 1x, https://www.usclimatedata.com/assets/images/us-climate-data-2.png 2x\" width=\"31\"/><span class=\"white ml-2\">U.S. Climate Data</span></a>\n",
      "Temperature - Precipitation - Sunshine - Snowfall\n",
      "\n",
      "<div class=\"box\" id=\"share\"><p class=\"lead\">Share</p><a aria-label=\"\" class=\"resp-sharing-button__link\" href=\" https://facebook.com/sharer/sharer.php?u=https://www.usclimatedata.com/climate/washington/district-of-columbia/united-states/usdc0001\" rel=\"noopener noreferrer\" target=\"_blank\"><div class=\"resp-sharing-button resp-sharing-button--facebook resp-sharing-button--small\"><div aria-hidden=\"true\" class=\"resp-sharing-button__icon resp-sharing-button__icon--solid\"><svg height=\"16\" viewbox=\"0 0 24 24\" width=\"16\" xmlns=\"http://www.w3.org/2000/svg\"><path d=\"M18.77 7.46H14.5v-1.9c0-.9.6-1.1 1-1.1h3V.5h-4.33C10.24.5 9.5 3.44 9.5 5.32v2.15h-3v4h3v12h5v-12h3.85l.42-4z\"></path></svg></div></div></a><a aria-label=\"\" class=\"resp-sharing-button__link\" href=\"https://twitter.com/intent/tweet/?text=Climate+Washington+-+District+of+Columbia+and+Weather+averages+Washington&amp;url=https://www.usclimatedata.com/climate/washington/district-of-columbia/united-states/usdc0001\" rel=\"noopener noreferrer\" target=\"_blank\"><div class=\"resp-sharing-button resp-sharing-button--twitter resp-sharing-button--small\"><div aria-hidden=\"true\" class=\"resp-sharing-button__icon resp-sharing-button__icon--solid\"><svg height=\"16\" viewbox=\"0 0 24 24\" width=\"16\" xmlns=\"http://www.w3.org/2000/svg\"><path d=\"M23.44 4.83c-.8.37-1.5.38-2.22.02.93-.56.98-.96 1.32-2.02-.88.52-1.86.9-2.9 1.1-.82-.88-2-1.43-3.3-1.43-2.5 0-4.55 2.04-4.55 4.54 0 .36.03.7.1 1.04-3.77-.2-7.12-2-9.36-4.75-.4.67-.6 1.45-.6 2.3 0 1.56.8 2.95 2 3.77-.74-.03-1.44-.23-2.05-.57v.06c0 2.2 1.56 4.03 3.64 4.44-.67.2-1.37.2-2.06.08.58 1.8 2.26 3.12 4.25 3.16C5.78 18.1 3.37 18.74 1 18.46c2 1.3 4.4 2.04 6.97 2.04 8.35 0 12.92-6.92 12.92-12.93 0-.2 0-.4-.02-.6.9-.63 1.96-1.22 2.56-2.14z\"></path></svg></div></div></a><a aria-label=\"\" class=\"resp-sharing-button__link\" href=\"https://pinterest.com/pin/create/button/?url=https://www.usclimatedata.com/climate/washington/district-of-columbia/united-states/usdc0001&amp;media=description=Climate+Washington+-+District+of+Columbia+and+Weather+averages+Washington\" rel=\"noopener noreferrer\" target=\"_blank\"><div class=\"resp-sharing-button resp-sharing-button--pinterest resp-sharing-button--small\"><div aria-hidden=\"true\" class=\"resp-sharing-button__icon resp-sharing-button__icon--solid\"><svg height=\"16\" viewbox=\"0 0 24 24\" width=\"16\" xmlns=\"http://www.w3.org/2000/svg\"><path d=\"M12.14.5C5.86.5 2.7 5 2.7 8.75c0 2.27.86 4.3 2.7 5.05.3.12.57 0 .66-.33l.27-1.06c.1-.32.06-.44-.2-.73-.52-.62-.86-1.44-.86-2.6 0-3.33 2.5-6.32 6.5-6.32 3.55 0 5.5 2.17 5.5 5.07 0 3.8-1.7 7.02-4.2 7.02-1.37 0-2.4-1.14-2.07-2.54.4-1.68 1.16-3.48 1.16-4.7 0-1.07-.58-1.98-1.78-1.98-1.4 0-2.55 1.47-2.55 3.42 0 1.25.43 2.1.43 2.1l-1.7 7.2c-.5 2.13-.08 4.75-.04 5 .02.17.22.2.3.1.14-.18 1.82-2.26 2.4-4.33.16-.58.93-3.63.93-3.63.45.88 1.8 1.65 3.22 1.65 4.25 0 7.13-3.87 7.13-9.05C20.5 4.15 17.18.5 12.14.5z\"></path></svg></div></div></a><a aria-label=\"\" class=\"resp-sharing-button__link\" href=\"mailto:mail@example.com?subject=Climate+Washington+-+District+of+Columbia+and+Weather+averages+Washington&amp;body=Climate+Washington+-+District+of+Columbia+and+Weather+averages+Washington+-+https%3A%2F%2Fwww.usclimatedata.com%2Fclimate%2Fwashington%2Fdistrict-of-columbia%2Funited-states%2Fusdc0001\" rel=\"noopener noreferrer\" target=\"_self\"><div class=\"resp-sharing-button resp-sharing-button--email resp-sharing-button--small\"><div aria-hidden=\"true\" class=\"resp-sharing-button__icon resp-sharing-button__icon--solid\"><svg height=\"16\" viewbox=\"0 0 24 24\" width=\"16\" xmlns=\"http://www.w3.org/2000/svg\"><path d=\"M22 4H2C.9 4 0 4.9 0 6v12c0 1.1.9 2 2 2h20c1.1 0 2-.9 2-2V6c0-1.1-.9-2-2-2zM7.25 14.43l-3.5 2c-.08.05-.17.07-.25.07-.17 0-.34-.1-.43-.25-.14-.24-.06-.55.18-.68l3.5-2c.24-.14.55-.06.68.18.14.24.06.55-.18.68zm4.75.07c-.1 0-.2-.03-.27-.08l-8.5-5.5c-.23-.15-.3-.46-.15-.7.15-.22.46-.3.7-.14L12 13.4l8.23-5.32c.23-.15.54-.08.7.15.14.23.07.54-.16.7l-8.5 5.5c-.08.04-.17.07-.27.07zm8.93 1.75c-.1.16-.26.25-.43.25-.08 0-.17-.02-.25-.07l-3.5-2c-.24-.13-.32-.44-.18-.68s.44-.32.68-.18l3.5 2c.24.13.32.44.18.68z\"></path></svg></div></div></a><a aria-label=\"Share on Tumblr\" class=\"resp-sharing-button__link\" href=\"https://www.tumblr.com/widgets/share/tool?posttype=link&amp;title=Climate+Washington+-+District+of+Columbia+and+Weather+averages+Washington&amp;caption=&amp;content=Climate+Washington+-+District+of+Columbia+and+Weather+averages+Washington+-+https%3A%2F%2Fwww.usclimatedata.com%2Fclimate%2Fwashington%2Fdistrict-of-columbia%2Funited-states%2Fusdc0001&amp;canonicalUrl=https://www.usclimatedata.com/climate/washington/district-of-columbia/united-states/usdc0001&amp;shareSource=tumblr_share_button\" rel=\"noopener noreferrer\" target=\"_blank\"><div class=\"resp-sharing-button resp-sharing-button--tumblr resp-sharing-button--small\"><div aria-hidden=\"true\" class=\"resp-sharing-button__icon resp-sharing-button__icon--solid\"><svg height=\"16\" viewbox=\"0 0 24 24\" width=\"16\" xmlns=\"http://www.w3.org/2000/svg\"><path d=\"M13.5.5v5h5v4h-5V15c0 5 3.5 4.4 6 2.8v4.4c-6.7 3.2-12 0-12-4.2V9.5h-3V6.7c1-.3 2.2-.7 3-1.3.5-.5 1-1.2 1.4-2 .3-.7.6-1.7.7-3h3.8z\"></path></svg></div></div></a><div class=\"d-inline d-sm-none\"><a aria-label=\"\" class=\"resp-sharing-button__link\" data-action=\"share/whatsapp/share\" href=\"whatsapp://send?text=Climate+Washington+-+District+of+Columbia+and+Weather+averages+Washington+-+https%3A%2F%2Fwww.usclimatedata.com%2Fclimate%2Fwashington%2Fdistrict-of-columbia%2Funited-states%2Fusdc0001\" rel=\"noopener noreferrer\" target=\"_blank\"><div class=\"resp-sharing-button resp-sharing-button--whatsapp resp-sharing-button--small\"><div aria-hidden=\"true\" class=\"resp-sharing-button__icon resp-sharing-button__icon--solid\"><svg height=\"16\" viewbox=\"0 0 24 24\" width=\"16\" xmlns=\"http://www.w3.org/2000/svg\"><path d=\"M20.1 3.9C17.9 1.7 15 .5 12 .5 5.8.5.7 5.6.7 11.9c0 2 .5 3.9 1.5 5.6L.6 23.4l6-1.6c1.6.9 3.5 1.3 5.4 1.3 6.3 0 11.4-5.1 11.4-11.4-.1-2.8-1.2-5.7-3.3-7.8zM12 21.4c-1.7 0-3.3-.5-4.8-1.3l-.4-.2-3.5 1 1-3.4L4 17c-1-1.5-1.4-3.2-1.4-5.1 0-5.2 4.2-9.4 9.4-9.4 2.5 0 4.9 1 6.7 2.8 1.8 1.8 2.8 4.2 2.8 6.7-.1 5.2-4.3 9.4-9.5 9.4zm5.1-7.1c-.3-.1-1.7-.9-1.9-1-.3-.1-.5-.1-.7.1-.2.3-.8 1-.9 1.1-.2.2-.3.2-.6.1s-1.2-.5-2.3-1.4c-.9-.8-1.4-1.7-1.6-2-.2-.3 0-.5.1-.6s.3-.3.4-.5c.2-.1.3-.3.4-.5.1-.2 0-.4 0-.5C10 9 9.3 7.6 9 7c-.1-.4-.4-.3-.5-.3h-.6s-.4.1-.7.3c-.3.3-1 1-1 2.4s1 2.8 1.1 3c.1.2 2 3.1 4.9 4.3.7.3 1.2.5 1.6.6.7.2 1.3.2 1.8.1.6-.1 1.7-.7 1.9-1.3.2-.7.2-1.2.2-1.3-.1-.3-.3-.4-.6-.5z\"></path></svg></div></div></a></div></div>\n"
     ]
    }
   ],
   "source": [
    "# Drill into the bs4 object to access page contents\n",
    "print(soup.p)\n",
    "print(soup.p.text)\n",
    "print(soup.a)\n",
    "print(soup.a['title'])\n",
    "print()\n",
    "print(soup.p.parent)"
   ]
  },
  {
   "cell_type": "code",
   "execution_count": 5,
   "id": "cee8bbfb",
   "metadata": {},
   "outputs": [
    {
     "name": "stdout",
     "output_type": "stream",
     "text": [
      "<div class=\"float-left mb-4 mt-2\">\n",
      " <p class=\"selection_title\">\n",
      "  Select a state by name\n",
      " </p>\n",
      "</div>\n",
      "\n"
     ]
    }
   ],
   "source": [
    "print(soup.p.parent.prettify())\n",
    "# prettify() is handy for formatted printing"
   ]
  },
  {
   "cell_type": "code",
   "execution_count": 6,
   "id": "625563b7",
   "metadata": {},
   "outputs": [
    {
     "name": "stdout",
     "output_type": "stream",
     "text": [
      "/\n",
      "#\n",
      "/\n",
      "/climate/united-states/us\n",
      "/\n",
      "/climate/united-states/us\n",
      "/climate/alabama/united-states/3170\n",
      "/climate/alaska/united-states/3171\n",
      "/climate/arizona/united-states/3172\n",
      "/climate/arkansas/united-states/3173\n",
      "/climate/california/united-states/3174\n",
      "/climate/colorado/united-states/3175\n",
      "/climate/connecticut/united-states/3176\n",
      "/climate/delaware/united-states/3177\n",
      "/climate/district-of-columbia/united-states/3178\n",
      "/climate/florida/united-states/3179\n",
      "/climate/georgia/united-states/3180\n",
      "/climate/hawaii/united-states/3181\n",
      "/climate/idaho/united-states/3182\n",
      "/climate/illinois/united-states/3183\n",
      "/climate/indiana/united-states/3184\n",
      "/climate/iowa/united-states/3185\n",
      "/climate/kansas/united-states/3186\n",
      "/climate/kentucky/united-states/3187\n",
      "/climate/louisiana/united-states/3188\n",
      "/climate/maine/united-states/3189\n",
      "/climate/maryland/united-states/1872\n",
      "/climate/massachusetts/united-states/3191\n",
      "/climate/michigan/united-states/3192\n",
      "/climate/minnesota/united-states/3193\n",
      "/climate/mississippi/united-states/3194\n",
      "/climate/missouri/united-states/3195\n",
      "/climate/montana/united-states/919\n",
      "/climate/nebraska/united-states/3197\n",
      "/climate/nevada/united-states/3198\n",
      "/climate/new-hampshire/united-states/3199\n",
      "/climate/new-jersey/united-states/3200\n",
      "/climate/new-mexico/united-states/3201\n",
      "/climate/new-york/united-states/3202\n",
      "/climate/north-carolina/united-states/3203\n",
      "/climate/north-dakota/united-states/3204\n",
      "/climate/ohio/united-states/3205\n",
      "/climate/oklahoma/united-states/3206\n",
      "/climate/oregon/united-states/3207\n",
      "/climate/pennsylvania/united-states/3208\n",
      "/climate/puerto-rico/united-states/7335\n",
      "/climate/rhode-island/united-states/3209\n",
      "/climate/south-carolina/united-states/3210\n",
      "/climate/south-dakota/united-states/3211\n",
      "/climate/tennessee/united-states/3212\n",
      "/climate/texas/united-states/3213\n",
      "/climate/utah/united-states/3214\n",
      "/climate/vermont/united-states/3215\n",
      "/climate/virginia/united-states/3216\n",
      "/climate/washington/united-states/3217\n",
      "/climate/west-virginia/united-states/3218\n",
      "/climate/wisconsin/united-states/3219\n",
      "/climate/wyoming/united-states/3220\n",
      "/climate/washington/district-of-columbia/united-states/usdc0001\n",
      " https://facebook.com/sharer/sharer.php?u=https://www.usclimatedata.com/climate/united-states/us\n",
      "https://twitter.com/intent/tweet/?text=Climate+United+States+-+Normals+and+averages&url=https://www.usclimatedata.com/climate/united-states/us\n",
      "https://pinterest.com/pin/create/button/?url=https://www.usclimatedata.com/climate/united-states/us&media=description=Climate+United+States+-+Normals+and+averages\n",
      "mailto:mail@example.com?subject=Climate+United+States+-+Normals+and+averages&body=Climate+United+States+-+Normals+and+averages+-+https%3A%2F%2Fwww.usclimatedata.com%2Fclimate%2Funited-states%2Fus\n",
      "https://www.tumblr.com/widgets/share/tool?posttype=link&title=Climate+United+States+-+Normals+and+averages&caption=&content=Climate+United+States+-+Normals+and+averages+-+https%3A%2F%2Fwww.usclimatedata.com%2Fclimate%2Funited-states%2Fus&canonicalUrl=https://www.usclimatedata.com/climate/united-states/us&shareSource=tumblr_share_button\n",
      "whatsapp://send?text=Climate+United+States+-+Normals+and+averages+-+https%3A%2F%2Fwww.usclimatedata.com%2Fclimate%2Funited-states%2Fus\n",
      "https://www.facebook.com/yourweatherservice\n",
      "https://twitter.com/usclimatedata\n",
      "/website-info\n"
     ]
    }
   ],
   "source": [
    "# We then need all the state links on this page\n",
    "for link in soup.find_all('a'):\n",
    "    print(link.get('href'))"
   ]
  },
  {
   "cell_type": "code",
   "execution_count": 7,
   "id": "d46eacc8",
   "metadata": {},
   "outputs": [
    {
     "name": "stdout",
     "output_type": "stream",
     "text": [
      "53\n"
     ]
    }
   ],
   "source": [
    "# We see the result above includes some links we don't want, so we need to filter those out. \n",
    "# For example, some of them are hashtags and some of them are links to other sites\n",
    "# What we want is all these state links\n",
    "base_url = 'http://www.usclimatedata.com'\n",
    "state_links = []\n",
    "for link in soup.find_all('a'):\n",
    "    url = link.get('href')\n",
    "    if url and '/climate/' in url and '/climate/united-states/us' not in url:\n",
    "        state_links.append(url)\n",
    "print(len(state_links)) \n",
    "# in the end, we get 51 state links, including Washington DC."
   ]
  },
  {
   "cell_type": "code",
   "execution_count": 8,
   "id": "f8a33daa",
   "metadata": {},
   "outputs": [
    {
     "name": "stdout",
     "output_type": "stream",
     "text": [
      "Climate Colorado - Temperature, Rainfall and Averages\n"
     ]
    }
   ],
   "source": [
    "r = requests.get(base_url + state_links[5])\n",
    "soup = BeautifulSoup(r.text)\n",
    "print(soup.title.string)\n",
    "# Here what we do is to test getting the data for one state to see if this works well"
   ]
  },
  {
   "cell_type": "code",
   "execution_count": 9,
   "id": "a5708b66",
   "metadata": {},
   "outputs": [
    {
     "name": "stdout",
     "output_type": "stream",
     "text": [
      "12\n"
     ]
    }
   ],
   "source": [
    "rows = soup.find_all('tr')\n",
    "print(len(rows))\n",
    "# The data we need is in tr tags"
   ]
  },
  {
   "cell_type": "code",
   "execution_count": 13,
   "id": "eaad31ba",
   "metadata": {},
   "outputs": [
    {
     "name": "stdout",
     "output_type": "stream",
     "text": [
      "2\n"
     ]
    }
   ],
   "source": [
    "rows = [row for row in rows if 'Average high' in str(row)]\n",
    "print(len(rows))"
   ]
  },
  {
   "cell_type": "code",
   "execution_count": 15,
   "id": "7d687d09",
   "metadata": {},
   "outputs": [
    {
     "name": "stdout",
     "output_type": "stream",
     "text": [
      "['46', '54', '61', '72', '82', '88', '79', '66', '52', '45']\n"
     ]
    }
   ],
   "source": [
    "high_temps = []\n",
    "for row in rows:\n",
    "    tds = row.find_all('td')\n",
    "    for i in range(1,6):\n",
    "        high_temps.append(tds[i].text)\n",
    "print(high_temps)\n",
    "# filter rows, and add temp data to a list"
   ]
  },
  {
   "cell_type": "code",
   "execution_count": 16,
   "id": "6fc57a2f",
   "metadata": {},
   "outputs": [
    {
     "name": "stdout",
     "output_type": "stream",
     "text": [
      "Climate Colorado - Temperature, Rainfall and Averages\n"
     ]
    }
   ],
   "source": [
    "r = requests.get(base_url + state_links[5])\n",
    "soup = BeautifulSoup(r.text)\n",
    "print(soup.title.string)\n",
    "# Here we test getting the data for one state again and then print the title for that page"
   ]
  },
  {
   "cell_type": "code",
   "execution_count": 17,
   "id": "e1e774a8",
   "metadata": {},
   "outputs": [
    {
     "name": "stdout",
     "output_type": "stream",
     "text": [
      "Colorado\n",
      "Colorado\n"
     ]
    }
   ],
   "source": [
    "state = soup.title.string.split()[1]\n",
    "print(state)\n",
    "s = soup.title.string\n",
    "state = s[s.find(' '):s.find('-')].strip()\n",
    "print(state)\n",
    "# get the name of the state"
   ]
  },
  {
   "cell_type": "code",
   "execution_count": 19,
   "id": "efb551a8",
   "metadata": {},
   "outputs": [
    {
     "name": "stdout",
     "output_type": "stream",
     "text": [
      "{'Colorado': ['46', '54', '61', '72', '82', '88', '79', '66', '52', '45']}\n"
     ]
    }
   ],
   "source": [
    "data = {}\n",
    "data[state] = high_temps\n",
    "print(data)\n",
    "# for a single state, this is what our scraped data looks like"
   ]
  },
  {
   "cell_type": "code",
   "execution_count": 23,
   "id": "2b640f5b",
   "metadata": {},
   "outputs": [
    {
     "name": "stdout",
     "output_type": "stream",
     "text": [
      "{'Alabama': ['58', '67', '74', '82', '88', '91', '85', '75', '65', '56'], 'Alaska': ['27', '34', '44', '56', '63', '64', '55', '40', '28', '25'], 'Arizona': ['71', '77', '85', '95', '104', '104', '100', '89', '76', '66'], 'Arkansas': ['55', '64', '73', '81', '89', '93', '86', '75', '63', '52'], 'California': ['60', '65', '71', '80', '87', '91', '87', '78', '64', '54'], 'Colorado': ['46', '54', '61', '72', '82', '88', '79', '66', '52', '45'], 'Connecticut': ['40', '47', '58', '68', '77', '81', '74', '63', '53', '42'], 'Delaware': ['47', '55', '66', '75', '83', '85', '79', '69', '58', '47'], 'District Of Columbia': ['44', '53', '64', '75', '83', '84', '78', '67', '55', '45'], 'Florida': ['67', '74', '80', '87', '91', '92', '88', '81', '73', '65'], 'Georgia': ['57', '64', '72', '81', '86', '88', '82', '73', '64', '54'], 'Hawaii': ['80', '81', '83', '85', '87', '89', '89', '87', '84', '81'], 'Idaho': ['45', '55', '62', '72', '81', '90', '79', '65', '48', '38'], 'Illinois': ['36', '46', '59', '70', '81', '82', '75', '63', '48', '36'], 'Indiana': ['40', '51', '63', '73', '82', '83', '77', '65', '52', '39'], 'Iowa': ['36', '49', '62', '72', '82', '84', '76', '63', '48', '34'], 'Kansas': ['45', '56', '67', '76', '85', '89', '80', '68', '55', '42'], 'Kentucky': ['45', '55', '66', '75', '83', '86', '79', '68', '55', '44'], 'Louisiana': ['65', '72', '78', '85', '89', '91', '87', '80', '72', '64'], 'Maine': ['32', '40', '53', '65', '74', '78', '70', '57', '45', '33'], 'Maryland': ['46', '54', '65', '75', '85', '87', '80', '68', '58', '46'], 'Massachusetts': ['39', '45', '56', '66', '76', '80', '72', '61', '51', '41'], 'Michigan': ['33', '44', '58', '69', '78', '80', '73', '60', '47', '34'], 'Minnesota': ['31', '43', '58', '71', '80', '82', '73', '59', '42', '29'], 'Mississippi': ['60', '69', '76', '83', '89', '92', '87', '77', '67', '58'], 'Missouri': ['45', '56', '67', '75', '83', '88', '80', '69', '56', '43'], 'Montana': ['39', '48', '58', '67', '76', '85', '73', '59', '43', '32'], 'Nebraska': ['37', '50', '63', '73', '84', '86', '77', '64', '48', '36'], 'Nevada': ['50', '57', '63', '71', '81', '88', '80', '68', '54', '45'], 'New Hampshire': ['35', '44', '57', '69', '77', '81', '73', '60', '48', '36'], 'New Jersey': ['42', '51', '62', '72', '82', '84', '77', '65', '55', '44'], 'New Mexico': ['48', '56', '65', '74', '83', '83', '78', '67', '53', '43'], 'New York': ['42', '50', '60', '71', '79', '83', '76', '65', '54', '44'], 'North Carolina': ['55', '63', '72', '79', '86', '87', '81', '72', '62', '53'], 'North Dakota': ['28', '40', '57', '68', '77', '83', '72', '58', '40', '26'], 'Ohio': ['40', '52', '63', '73', '82', '84', '77', '65', '52', '41'], 'Oklahoma': ['55', '63', '72', '80', '88', '93', '85', '73', '62', '51'], 'Oregon': ['52', '56', '61', '68', '74', '82', '77', '64', '53', '46'], 'Pennsylvania': ['44', '53', '64', '74', '83', '85', '78', '67', '56', '45'], 'Puerto Rico': ['83', '83', '85', '86', '88', '88', '88', '87', '85', '83'], 'Rhode Island': ['40', '48', '59', '68', '78', '81', '74', '63', '53', '42'], 'South Carolina': ['63', '70', '76', '83', '88', '89', '85', '77', '70', '62'], 'South Dakota': ['27', '39', '57', '69', '78', '82', '72', '58', '39', '25'], 'Tennessee': ['55', '64', '73', '81', '89', '91', '85', '74', '63', '52'], 'Texas': ['65', '72', '80', '87', '92', '97', '91', '82', '71', '63'], 'Utah': ['44', '53', '61', '71', '82', '89', '78', '65', '50', '40'], 'Vermont': ['31', '40', '55', '67', '76', '79', '70', '57', '46', '33'], 'Virginia': ['51', '60', '70', '78', '86', '88', '81', '71', '61', '51'], 'Washington': ['44', '53', '64', '75', '83', '84', '78', '67', '55', '45'], 'West Virginia': ['47', '56', '68', '75', '82', '84', '78', '68', '57', '46'], 'Wisconsin': ['33', '42', '54', '65', '75', '78', '71', '59', '46', '33'], 'Wyoming': ['40', '47', '55', '65', '75', '81', '72', '59', '47', '38']}\n"
     ]
    }
   ],
   "source": [
    "data = {}\n",
    "for state_link in state_links:\n",
    "    url = base_url + state_link\n",
    "    r = requests.get(base_url + state_link)\n",
    "    soup = BeautifulSoup(r.text)\n",
    "    rows = soup.find_all('tr')\n",
    "    rows = [row for row in rows if 'Average high' in str(row)]\n",
    "    high_temps = []\n",
    "    for row in rows:\n",
    "        tds = row.find_all('td')\n",
    "        for i in range(1,6):\n",
    "            high_temps.append(tds[i].text)\n",
    "    s = soup.title.string\n",
    "    state = s[s.find(' '):s.find('-')].strip()\n",
    "    data[state] = high_temps\n",
    "print(data)\n",
    "# Here we loop through our 51-state list, and get high temp data for each state"
   ]
  },
  {
   "cell_type": "code",
   "execution_count": 24,
   "id": "77e3ce77",
   "metadata": {},
   "outputs": [],
   "source": [
    "import csv\n",
    "# save to CSV file"
   ]
  },
  {
   "cell_type": "code",
   "execution_count": null,
   "id": "13f60e23",
   "metadata": {},
   "outputs": [],
   "source": [
    "with open('high_temps.csv','w') as f:\n",
    "    w = csv.writer(f)\n",
    "    w.writerows(data.items())"
   ]
  }
 ],
 "metadata": {
  "kernelspec": {
   "display_name": "Python 3 (ipykernel)",
   "language": "python",
   "name": "python3"
  },
  "language_info": {
   "codemirror_mode": {
    "name": "ipython",
    "version": 3
   },
   "file_extension": ".py",
   "mimetype": "text/x-python",
   "name": "python",
   "nbconvert_exporter": "python",
   "pygments_lexer": "ipython3",
   "version": "3.9.7"
  }
 },
 "nbformat": 4,
 "nbformat_minor": 5
}
